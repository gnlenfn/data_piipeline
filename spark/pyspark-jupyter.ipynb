{
 "cells": [
  {
   "cell_type": "code",
   "execution_count": 1,
   "id": "93ca9bd5",
   "metadata": {},
   "outputs": [],
   "source": [
    "from pyspark.sql import SparkSession\n",
    "from pyspark.sql import functions as F"
   ]
  },
  {
   "cell_type": "code",
   "execution_count": 2,
   "id": "e50bb2c1",
   "metadata": {},
   "outputs": [
    {
     "name": "stdout",
     "output_type": "stream",
     "text": [
      "23/05/08 21:12:01 WARN Utils: Your hostname, HONGs-Mac-mini.local resolves to a loopback address: 127.0.0.1; using 192.168.0.69 instead (on interface en0)\n",
      "23/05/08 21:12:01 WARN Utils: Set SPARK_LOCAL_IP if you need to bind to another address\n"
     ]
    },
    {
     "name": "stderr",
     "output_type": "stream",
     "text": [
      "Setting default log level to \"WARN\".\n",
      "To adjust logging level use sc.setLogLevel(newLevel). For SparkR, use setLogLevel(newLevel).\n"
     ]
    },
    {
     "name": "stdout",
     "output_type": "stream",
     "text": [
      "23/05/08 21:12:01 WARN NativeCodeLoader: Unable to load native-hadoop library for your platform... using builtin-java classes where applicable\n"
     ]
    }
   ],
   "source": [
    "spark = (\n",
    "    SparkSession\n",
    "    .builder \n",
    "    .master(\"local[*]\")\n",
    "    .appName(\"test\")\n",
    "    .getOrCreate()\n",
    "    )"
   ]
  },
  {
   "cell_type": "code",
   "execution_count": null,
   "id": "29713c05",
   "metadata": {},
   "outputs": [],
   "source": [
    "spark"
   ]
  },
  {
   "cell_type": "code",
   "execution_count": null,
   "id": "8b89a192",
   "metadata": {},
   "outputs": [],
   "source": [
    "df_green = spark.read.parquet('data/input/green/*/*')\n",
    "df_green = df_green.withColumnRenamed('lpep_pickup_datetime', \"pickup_datetime\") \\\n",
    "                    .withColumnRenamed('lpep_dropoff_datetime', \"dropoff_datetime\")"
   ]
  },
  {
   "cell_type": "code",
   "execution_count": null,
   "id": "e631e85f",
   "metadata": {},
   "outputs": [],
   "source": [
    "df_yellow = spark.read.parquet('data/input/yellow/*/*')\n",
    "df_yellow = df_yellow.withColumnRenamed('tpep_pickup_datetime', \"pickup_datetime\") \\\n",
    "                    .withColumnRenamed('tpep_dropoff_datetime', \"dropoff_datetime\")"
   ]
  },
  {
   "cell_type": "code",
   "execution_count": null,
   "id": "abe26081",
   "metadata": {},
   "outputs": [],
   "source": [
    "common_columns = []\n",
    "yellow_columns = set(df_yellow.columns)\n",
    "\n",
    "for col in df_green.columns:\n",
    "    if col in yellow_columns:\n",
    "        common_columns.append(col)"
   ]
  },
  {
   "cell_type": "code",
   "execution_count": null,
   "id": "e408977a",
   "metadata": {},
   "outputs": [],
   "source": [
    "df_green_com = df_green.select(common_columns).withColumn('service_type', F.lit('green'))\n",
    "df_yellow_com = df_yellow.select(common_columns).withColumn('service_type', F.lit('yellow'))\n",
    "data = df_green_com.unionAll(df_yellow_com)\n",
    "data = data.filter(data.pickup_datetime >= '2020-01-01')  # 과거 데이터가 섞여있었음\n",
    "data = data.filter(data.pickup_datetime < '2023-01-01')   # 이상값 제거"
   ]
  },
  {
   "cell_type": "code",
   "execution_count": null,
   "id": "688f74a2",
   "metadata": {},
   "outputs": [],
   "source": [
    "data.groupBy('service_type').count().show()"
   ]
  },
  {
   "cell_type": "code",
   "execution_count": 3,
   "id": "593c8550",
   "metadata": {},
   "outputs": [],
   "source": [
    "df_fhvhv = spark.read.parquet(\"data/input/fhvhv/*/*\")"
   ]
  },
  {
   "cell_type": "code",
   "execution_count": null,
   "id": "a59de7e4",
   "metadata": {},
   "outputs": [],
   "source": [
    "df_fhvhv.printSchema()"
   ]
  },
  {
   "cell_type": "code",
   "execution_count": 5,
   "id": "3b9bbb9c",
   "metadata": {},
   "outputs": [],
   "source": [
    "from pyspark.sql.functions import date_format, asc"
   ]
  },
  {
   "cell_type": "code",
   "execution_count": null,
   "id": "65629a27",
   "metadata": {},
   "outputs": [],
   "source": [
    "df_fhvhv.withColumn('month', date_format(\"pickup_datetime\", \"yyyy-MM\")).groupby('month').count().orderBy('month').show()"
   ]
  },
  {
   "cell_type": "code",
   "execution_count": 6,
   "id": "87260f64",
   "metadata": {},
   "outputs": [
    {
     "name": "stderr",
     "output_type": "stream",
     "text": [
      "\r",
      "[Stage 3:============================================>              (3 + 1) / 4]\r"
     ]
    },
    {
     "name": "stdout",
     "output_type": "stream",
     "text": [
      "+-----------------+--------------------+--------------------+-------------------+-------------------+-------------------+-------------------+------------+------------+----------+---------+-------------------+-----+----+---------+--------------------+-----------+----+----------+-------------------+-----------------+------------------+----------------+--------------+-------+\n",
      "|hvfhs_license_num|dispatching_base_num|originating_base_num|   request_datetime|  on_scene_datetime|    pickup_datetime|   dropoff_datetime|PULocationID|DOLocationID|trip_miles|trip_time|base_passenger_fare|tolls| bcf|sales_tax|congestion_surcharge|airport_fee|tips|driver_pay|shared_request_flag|shared_match_flag|access_a_ride_flag|wav_request_flag|wav_match_flag|  month|\n",
      "+-----------------+--------------------+--------------------+-------------------+-------------------+-------------------+-------------------+------------+------------+----------+---------+-------------------+-----+----+---------+--------------------+-----------+----+----------+-------------------+-----------------+------------------+----------------+--------------+-------+\n",
      "|           HV0003|              B02864|              B02864|2020-01-01 09:40:13|2020-01-01 09:43:34|2020-01-01 09:45:34|2020-01-01 10:02:20|         148|          90|      1.93|     1006|              30.44|  0.0|0.76|      2.7|                2.75|       null| 0.0|     18.25|                  N|                N|                  |               N|             N|2020-01|\n",
      "|           HV0003|              B02682|              B02682|2020-01-01 09:42:31|2020-01-01 09:46:33|2020-01-01 09:47:50|2020-01-01 09:53:23|         114|          79|      0.81|      333|               14.8|  0.0|0.37|     1.31|                2.75|       null| 0.0|     10.84|                  N|                N|                  |               N|             N|2020-01|\n",
      "|           HV0003|              B02764|              B02764|2020-01-01 09:01:42|2020-01-01 09:02:06|2020-01-01 09:04:37|2020-01-01 09:21:49|           4|         125|      2.53|     1032|              15.63|  0.0|0.47|     1.39|                2.75|       null| 3.0|     11.73|                  N|                N|                  |               N|             N|2020-01|\n",
      "|           HV0003|              B02764|              B02764|2020-01-01 09:21:23|2020-01-01 09:26:02|2020-01-01 09:26:36|2020-01-01 09:33:00|         231|         113|      1.11|      384|               8.44|  0.0|0.21|     0.75|                2.75|       null| 0.0|      5.84|                  N|                N|                  |               N|             N|2020-01|\n",
      "|           HV0003|              B02764|              B02764|2020-01-01 09:32:20|2020-01-01 09:37:06|2020-01-01 09:37:49|2020-01-01 09:46:59|         114|         144|       1.1|      550|              11.57|  0.0|0.29|     1.03|                2.75|       null| 0.0|      7.69|                  N|                N|                  |               N|             N|2020-01|\n",
      "|           HV0003|              B02764|              B02764|2020-01-01 09:43:10|2020-01-01 09:47:38|2020-01-01 09:49:23|2020-01-01 10:07:26|         144|         137|      4.86|     1083|              30.16|  0.0|0.75|     2.68|                2.75|       null| 0.0|     17.71|                  N|                N|                  |               N|             N|2020-01|\n",
      "|           HV0003|              B02870|              B02870|2020-01-01 09:19:00|2020-01-01 09:19:13|2020-01-01 09:21:11|2020-01-01 09:36:58|         249|         148|       2.3|      947|              14.21|  0.0|0.36|     1.26|                2.75|       null| 0.0|     11.52|                  N|                N|                  |               N|             N|2020-01|\n",
      "|           HV0003|              B02870|              B02870|2020-01-01 09:31:08|2020-01-01 09:37:40|2020-01-01 09:38:28|2020-01-01 09:42:38|         148|           4|      0.41|      250|               8.63|  0.0|0.22|     0.77|                2.75|       null| 0.0|      8.08|                  N|                N|                  |               N|             N|2020-01|\n",
      "|           HV0003|              B02870|              B02870|2020-01-01 09:42:53|2020-01-01 09:44:28|2020-01-01 09:46:26|2020-01-01 10:09:55|          79|           7|      9.28|     1409|              32.05|  0.0| 0.8|     2.84|                2.75|       null| 0.0|     25.73|                  N|                N|                  |               N|             N|2020-01|\n",
      "|           HV0003|              B02836|              B02836|2020-01-01 09:13:58|2020-01-01 09:14:13|2020-01-01 09:15:35|2020-01-01 09:23:21|         140|         236|      1.55|      466|               7.44|  0.0|0.19|     0.66|                2.75|       null| 0.0|      5.74|                  N|                N|                  |               N|             N|2020-01|\n",
      "|           HV0003|              B02836|              B02836|2020-01-01 09:22:44|2020-01-01 09:25:52|2020-01-01 09:28:04|2020-01-01 10:13:35|          75|         149|     23.58|     2731|              77.36| 6.12|2.09|     7.41|                2.75|       null| 0.0|     53.71|                  N|                N|                  |               N|             N|2020-01|\n",
      "|           HV0003|              B02875|              B02875|2020-01-01 09:08:13|2020-01-01 09:12:05|2020-01-01 09:14:22|2020-01-01 09:40:02|          33|         229|      7.77|     1540|              25.57|  0.0|0.64|     2.27|                2.75|       null| 0.0|     21.47|                  N|                N|                  |               N|             N|2020-01|\n",
      "|           HV0003|              B02875|              B02875|2020-01-01 09:35:51|2020-01-01 09:42:53|2020-01-01 09:45:02|2020-01-01 09:59:11|         229|          74|      4.16|      849|              17.68|  0.0|0.52|     1.58|                2.75|       null| 3.0|     16.32|                  N|                N|                  |               N|             N|2020-01|\n",
      "|           HV0003|              B02764|              B02764|2020-01-01 09:12:38|2020-01-01 09:15:40|2020-01-01 09:16:55|2020-01-01 09:42:36|         114|         238|       6.2|     1541|              24.48|  0.0|0.61|     2.17|                2.75|       null| 0.0|     19.94|                  N|                N|                  |               N|             N|2020-01|\n",
      "|           HV0003|              B02617|              B02617|2020-01-01 09:23:46|2020-01-01 09:36:44|2020-01-01 09:40:01|2020-01-01 09:45:22|          85|          89|      0.99|      321|              14.15|  0.0|0.35|     1.26|                 0.0|       null| 0.0|     10.77|                  N|                N|                  |               N|             N|2020-01|\n",
      "|           HV0003|              B02617|              B02617|2020-01-01 09:35:50|2020-01-01 09:54:16|2020-01-01 09:55:45|2020-01-01 10:25:10|          61|         202|       7.9|     1765|               53.6|  0.0|1.34|     4.76|                 0.0|       null| 0.0|     45.64|                  N|                N|                  |               N|             N|2020-01|\n",
      "|           HV0003|              B02883|              B02883|2020-01-01 09:24:54|2020-01-01 09:26:29|2020-01-01 09:28:57|2020-01-01 10:18:07|         162|         265|      24.5|     2950|              73.44|  0.0|1.84|     6.52|                2.75|       null| 0.0|     59.15|                  N|                N|                  |               N|             N|2020-01|\n",
      "|           HV0003|              B02872|              B02872|2020-01-01 09:17:21|2020-01-01 09:18:37|2020-01-01 09:20:35|2020-01-01 09:22:35|          71|          71|      0.44|      120|               7.19|  0.0|0.18|     0.64|                 0.0|       null| 0.0|      5.96|                  N|                N|                  |               N|             N|2020-01|\n",
      "|           HV0003|              B02872|              B02872|2020-01-01 09:20:42|2020-01-01 09:25:45|2020-01-01 09:26:49|2020-01-01 09:35:32|          71|          35|      1.46|      523|               7.19|  0.0|0.18|     0.64|                 0.0|       null| 0.0|      6.48|                  N|                N|                  |               N|             N|2020-01|\n",
      "|           HV0003|              B02872|              B02872|2020-01-01 09:27:45|2020-01-01 09:43:25|2020-01-01 09:45:19|2020-01-01 10:07:05|          61|          76|      3.86|     1306|              10.32|  0.0|0.26|     0.92|                 0.0|       null| 0.0|     18.58|                  N|                N|                  |               N|             N|2020-01|\n",
      "+-----------------+--------------------+--------------------+-------------------+-------------------+-------------------+-------------------+------------+------------+----------+---------+-------------------+-----+----+---------+--------------------+-----------+----+----------+-------------------+-----------------+------------------+----------------+--------------+-------+\n",
      "only showing top 20 rows\n",
      "\n"
     ]
    },
    {
     "name": "stderr",
     "output_type": "stream",
     "text": [
      "\r",
      "                                                                                \r"
     ]
    }
   ],
   "source": [
    "df_fhvhv = df_fhvhv.withColumn('month', date_format(\"pickup_datetime\", \"yyyy-MM\"))\n",
    "df_fhvhv.where(df_fhvhv.month == '2020-01').show()"
   ]
  },
  {
   "cell_type": "code",
   "execution_count": null,
   "id": "d8b1794b",
   "metadata": {},
   "outputs": [],
   "source": []
  }
 ],
 "metadata": {
  "kernelspec": {
   "display_name": "Python 3 (ipykernel)",
   "language": "python",
   "name": "python3"
  },
  "language_info": {
   "codemirror_mode": {
    "name": "ipython",
    "version": 3
   },
   "file_extension": ".py",
   "mimetype": "text/x-python",
   "name": "python",
   "nbconvert_exporter": "python",
   "pygments_lexer": "ipython3",
   "version": "3.10.9"
  }
 },
 "nbformat": 4,
 "nbformat_minor": 5
}
