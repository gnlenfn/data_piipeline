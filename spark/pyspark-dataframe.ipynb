{
 "cells": [
  {
   "cell_type": "code",
   "execution_count": 1,
   "id": "93ca9bd5",
   "metadata": {},
   "outputs": [],
   "source": [
    "from pyspark.sql import SparkSession\n",
    "from pyspark.sql import functions as F"
   ]
  },
  {
   "cell_type": "code",
   "execution_count": 2,
   "id": "e50bb2c1",
   "metadata": {},
   "outputs": [
    {
     "name": "stdout",
     "output_type": "stream",
     "text": [
      "23/05/08 21:12:01 WARN Utils: Your hostname, HONGs-Mac-mini.local resolves to a loopback address: 127.0.0.1; using 192.168.0.69 instead (on interface en0)\n",
      "23/05/08 21:12:01 WARN Utils: Set SPARK_LOCAL_IP if you need to bind to another address\n"
     ]
    },
    {
     "name": "stderr",
     "output_type": "stream",
     "text": [
      "Setting default log level to \"WARN\".\n",
      "To adjust logging level use sc.setLogLevel(newLevel). For SparkR, use setLogLevel(newLevel).\n"
     ]
    },
    {
     "name": "stdout",
     "output_type": "stream",
     "text": [
      "23/05/08 21:12:01 WARN NativeCodeLoader: Unable to load native-hadoop library for your platform... using builtin-java classes where applicable\n"
     ]
    }
   ],
   "source": [
    "spark = (\n",
    "    SparkSession\n",
    "    .builder \n",
    "    .master(\"local[*]\")\n",
    "    .appName(\"test\")\n",
    "    .getOrCreate()\n",
    "    )"
   ]
  },
  {
   "cell_type": "code",
   "execution_count": null,
   "id": "29713c05",
   "metadata": {},
   "outputs": [],
   "source": [
    "spark"
   ]
  },
  {
   "cell_type": "code",
   "execution_count": null,
   "id": "8b89a192",
   "metadata": {},
   "outputs": [],
   "source": [
    "df_green = spark.read.parquet('data/input/green/*/*')\n",
    "df_green = df_green.withColumnRenamed('lpep_pickup_datetime', \"pickup_datetime\") \\\n",
    "                    .withColumnRenamed('lpep_dropoff_datetime', \"dropoff_datetime\")"
   ]
  },
  {
   "cell_type": "code",
   "execution_count": null,
   "id": "e631e85f",
   "metadata": {},
   "outputs": [],
   "source": [
    "df_yellow = spark.read.parquet('data/input/yellow/*/*')\n",
    "df_yellow = df_yellow.withColumnRenamed('tpep_pickup_datetime', \"pickup_datetime\") \\\n",
    "                    .withColumnRenamed('tpep_dropoff_datetime', \"dropoff_datetime\")"
   ]
  },
  {
   "cell_type": "code",
   "execution_count": null,
   "id": "abe26081",
   "metadata": {},
   "outputs": [],
   "source": [
    "common_columns = []\n",
    "yellow_columns = set(df_yellow.columns)\n",
    "\n",
    "for col in df_green.columns:\n",
    "    if col in yellow_columns:\n",
    "        common_columns.append(col)"
   ]
  },
  {
   "cell_type": "code",
   "execution_count": null,
   "id": "e408977a",
   "metadata": {},
   "outputs": [],
   "source": [
    "df_green_com = df_green.select(common_columns).withColumn('service_type', F.lit('green'))\n",
    "df_yellow_com = df_yellow.select(common_columns).withColumn('service_type', F.lit('yellow'))\n",
    "data = df_green_com.unionAll(df_yellow_com)\n",
    "data = data.filter(data.pickup_datetime >= '2020-01-01')  # 과거 데이터가 섞여있었음\n",
    "data = data.filter(data.pickup_datetime < '2023-01-01')   # 이상값 제거"
   ]
  },
  {
   "cell_type": "code",
   "execution_count": null,
   "id": "688f74a2",
   "metadata": {},
   "outputs": [],
   "source": [
    "data.groupBy('service_type').count().show()"
   ]
  },
  {
   "cell_type": "code",
   "execution_count": 3,
   "id": "593c8550",
   "metadata": {},
   "outputs": [],
   "source": [
    "df_fhvhv = spark.read.parquet(\"data/input/fhvhv/*/*\")"
   ]
  },
  {
   "cell_type": "code",
   "execution_count": null,
   "id": "a59de7e4",
   "metadata": {},
   "outputs": [],
   "source": [
    "df_fhvhv.printSchema()"
   ]
  },
  {
   "cell_type": "code",
   "execution_count": 5,
   "id": "e7564c8d",
   "metadata": {},
   "outputs": [],
   "source": [
    "from pyspark.sql.functions import date_format, asc"
   ]
  },
  {
   "cell_type": "code",
   "execution_count": null,
   "id": "65629a27",
   "metadata": {},
   "outputs": [],
   "source": [
    "df_fhvhv.withColumn('month', date_format(\"pickup_datetime\", \"yyyy-MM\")).groupby('month').count().orderBy('month').show()"
   ]
  },
  {
   "cell_type": "code",
   "execution_count": 6,
   "id": "87260f64",
   "metadata": {},
   "outputs": [
    {
     "name": "stderr",
     "output_type": "stream",
     "text": [
      "\r",
      "[Stage 3:============================================>              (3 + 1) / 4]\r"
     ]
    },
    {
     "name": "stdout",
     "output_type": "stream",
     "text": [
      "+-----------------+--------------------+--------------------+-------------------+-------------------+-------------------+-------------------+------------+------------+----------+---------+-------------------+-----+----+---------+--------------------+-----------+----+----------+-------------------+-----------------+------------------+----------------+--------------+-------+\n",
      "|hvfhs_license_num|dispatching_base_num|originating_base_num|   request_datetime|  on_scene_datetime|    pickup_datetime|   dropoff_datetime|PULocationID|DOLocationID|trip_miles|trip_time|base_passenger_fare|tolls| bcf|sales_tax|congestion_surcharge|airport_fee|tips|driver_pay|shared_request_flag|shared_match_flag|access_a_ride_flag|wav_request_flag|wav_match_flag|  month|\n",
      "+-----------------+--------------------+--------------------+-------------------+-------------------+-------------------+-------------------+------------+------------+----------+---------+-------------------+-----+----+---------+--------------------+-----------+----+----------+-------------------+-----------------+------------------+----------------+--------------+-------+\n",
      "|           HV0003|              B02864|              B02864|2020-01-01 09:40:13|2020-01-01 09:43:34|2020-01-01 09:45:34|2020-01-01 10:02:20|         148|          90|      1.93|     1006|              30.44|  0.0|0.76|      2.7|                2.75|       null| 0.0|     18.25|                  N|                N|                  |               N|             N|2020-01|\n",
      "|           HV0003|              B02682|              B02682|2020-01-01 09:42:31|2020-01-01 09:46:33|2020-01-01 09:47:50|2020-01-01 09:53:23|         114|          79|      0.81|      333|               14.8|  0.0|0.37|     1.31|                2.75|       null| 0.0|     10.84|                  N|                N|                  |               N|             N|2020-01|\n",
      "|           HV0003|              B02764|              B02764|2020-01-01 09:01:42|2020-01-01 09:02:06|2020-01-01 09:04:37|2020-01-01 09:21:49|           4|         125|      2.53|     1032|              15.63|  0.0|0.47|     1.39|                2.75|       null| 3.0|     11.73|                  N|                N|                  |               N|             N|2020-01|\n",
      "|           HV0003|              B02764|              B02764|2020-01-01 09:21:23|2020-01-01 09:26:02|2020-01-01 09:26:36|2020-01-01 09:33:00|         231|         113|      1.11|      384|               8.44|  0.0|0.21|     0.75|                2.75|       null| 0.0|      5.84|                  N|                N|                  |               N|             N|2020-01|\n",
      "|           HV0003|              B02764|              B02764|2020-01-01 09:32:20|2020-01-01 09:37:06|2020-01-01 09:37:49|2020-01-01 09:46:59|         114|         144|       1.1|      550|              11.57|  0.0|0.29|     1.03|                2.75|       null| 0.0|      7.69|                  N|                N|                  |               N|             N|2020-01|\n",
      "|           HV0003|              B02764|              B02764|2020-01-01 09:43:10|2020-01-01 09:47:38|2020-01-01 09:49:23|2020-01-01 10:07:26|         144|         137|      4.86|     1083|              30.16|  0.0|0.75|     2.68|                2.75|       null| 0.0|     17.71|                  N|                N|                  |               N|             N|2020-01|\n",
      "|           HV0003|              B02870|              B02870|2020-01-01 09:19:00|2020-01-01 09:19:13|2020-01-01 09:21:11|2020-01-01 09:36:58|         249|         148|       2.3|      947|              14.21|  0.0|0.36|     1.26|                2.75|       null| 0.0|     11.52|                  N|                N|                  |               N|             N|2020-01|\n",
      "|           HV0003|              B02870|              B02870|2020-01-01 09:31:08|2020-01-01 09:37:40|2020-01-01 09:38:28|2020-01-01 09:42:38|         148|           4|      0.41|      250|               8.63|  0.0|0.22|     0.77|                2.75|       null| 0.0|      8.08|                  N|                N|                  |               N|             N|2020-01|\n",
      "|           HV0003|              B02870|              B02870|2020-01-01 09:42:53|2020-01-01 09:44:28|2020-01-01 09:46:26|2020-01-01 10:09:55|          79|           7|      9.28|     1409|              32.05|  0.0| 0.8|     2.84|                2.75|       null| 0.0|     25.73|                  N|                N|                  |               N|             N|2020-01|\n",
      "|           HV0003|              B02836|              B02836|2020-01-01 09:13:58|2020-01-01 09:14:13|2020-01-01 09:15:35|2020-01-01 09:23:21|         140|         236|      1.55|      466|               7.44|  0.0|0.19|     0.66|                2.75|       null| 0.0|      5.74|                  N|                N|                  |               N|             N|2020-01|\n",
      "|           HV0003|              B02836|              B02836|2020-01-01 09:22:44|2020-01-01 09:25:52|2020-01-01 09:28:04|2020-01-01 10:13:35|          75|         149|     23.58|     2731|              77.36| 6.12|2.09|     7.41|                2.75|       null| 0.0|     53.71|                  N|                N|                  |               N|             N|2020-01|\n",
      "|           HV0003|              B02875|              B02875|2020-01-01 09:08:13|2020-01-01 09:12:05|2020-01-01 09:14:22|2020-01-01 09:40:02|          33|         229|      7.77|     1540|              25.57|  0.0|0.64|     2.27|                2.75|       null| 0.0|     21.47|                  N|                N|                  |               N|             N|2020-01|\n",
      "|           HV0003|              B02875|              B02875|2020-01-01 09:35:51|2020-01-01 09:42:53|2020-01-01 09:45:02|2020-01-01 09:59:11|         229|          74|      4.16|      849|              17.68|  0.0|0.52|     1.58|                2.75|       null| 3.0|     16.32|                  N|                N|                  |               N|             N|2020-01|\n",
      "|           HV0003|              B02764|              B02764|2020-01-01 09:12:38|2020-01-01 09:15:40|2020-01-01 09:16:55|2020-01-01 09:42:36|         114|         238|       6.2|     1541|              24.48|  0.0|0.61|     2.17|                2.75|       null| 0.0|     19.94|                  N|                N|                  |               N|             N|2020-01|\n",
      "|           HV0003|              B02617|              B02617|2020-01-01 09:23:46|2020-01-01 09:36:44|2020-01-01 09:40:01|2020-01-01 09:45:22|          85|          89|      0.99|      321|              14.15|  0.0|0.35|     1.26|                 0.0|       null| 0.0|     10.77|                  N|                N|                  |               N|             N|2020-01|\n",
      "|           HV0003|              B02617|              B02617|2020-01-01 09:35:50|2020-01-01 09:54:16|2020-01-01 09:55:45|2020-01-01 10:25:10|          61|         202|       7.9|     1765|               53.6|  0.0|1.34|     4.76|                 0.0|       null| 0.0|     45.64|                  N|                N|                  |               N|             N|2020-01|\n",
      "|           HV0003|              B02883|              B02883|2020-01-01 09:24:54|2020-01-01 09:26:29|2020-01-01 09:28:57|2020-01-01 10:18:07|         162|         265|      24.5|     2950|              73.44|  0.0|1.84|     6.52|                2.75|       null| 0.0|     59.15|                  N|                N|                  |               N|             N|2020-01|\n",
      "|           HV0003|              B02872|              B02872|2020-01-01 09:17:21|2020-01-01 09:18:37|2020-01-01 09:20:35|2020-01-01 09:22:35|          71|          71|      0.44|      120|               7.19|  0.0|0.18|     0.64|                 0.0|       null| 0.0|      5.96|                  N|                N|                  |               N|             N|2020-01|\n",
      "|           HV0003|              B02872|              B02872|2020-01-01 09:20:42|2020-01-01 09:25:45|2020-01-01 09:26:49|2020-01-01 09:35:32|          71|          35|      1.46|      523|               7.19|  0.0|0.18|     0.64|                 0.0|       null| 0.0|      6.48|                  N|                N|                  |               N|             N|2020-01|\n",
      "|           HV0003|              B02872|              B02872|2020-01-01 09:27:45|2020-01-01 09:43:25|2020-01-01 09:45:19|2020-01-01 10:07:05|          61|          76|      3.86|     1306|              10.32|  0.0|0.26|     0.92|                 0.0|       null| 0.0|     18.58|                  N|                N|                  |               N|             N|2020-01|\n",
      "+-----------------+--------------------+--------------------+-------------------+-------------------+-------------------+-------------------+------------+------------+----------+---------+-------------------+-----+----+---------+--------------------+-----------+----+----------+-------------------+-----------------+------------------+----------------+--------------+-------+\n",
      "only showing top 20 rows\n",
      "\n"
     ]
    },
    {
     "name": "stderr",
     "output_type": "stream",
     "text": [
      "\r",
      "                                                                                \r"
     ]
    }
   ],
   "source": [
    "df_fhvhv = df_fhvhv.withColumn('month', date_format(\"pickup_datetime\", \"yyyy-MM\"))\n",
    "df_fhvhv.where(df_fhvhv.month == '2020-01').show()"
   ]
  },
  {
   "cell_type": "code",
   "execution_count": 9,
   "id": "5760ff9a",
   "metadata": {},
   "outputs": [],
   "source": [
    "import os\n",
    "from config.default import *\n",
    "os.environ[\"GOOGLE_APPLICATION_CREDENTIALS\"] = GCS_KEY_PATH"
   ]
  },
  {
   "cell_type": "code",
   "execution_count": 10,
   "id": "d8b1794b",
   "metadata": {},
   "outputs": [],
   "source": [
    "from google.cloud import storage\n",
    "\n",
    "def read_file_blob(path: str) -> str:\n",
    "    storage_client = storage.Client()\n",
    "    bucket = storage_client.bucket(\"2023-de-zoomcamp\")\n",
    "    blob = bucket.blob(path + \"/*/*\")\n",
    "\n",
    "    read_output = blob.download_as_string()\n",
    "    return read_output"
   ]
  },
  {
   "cell_type": "code",
   "execution_count": 12,
   "id": "03aa80b7",
   "metadata": {},
   "outputs": [
    {
     "ename": "NotFound",
     "evalue": "404 GET https://storage.googleapis.com/download/storage/v1/b/2023-de-zoomcamp/o/data%2Ftaxi_zone_lookup.csv%2F%2A%2F%2A?alt=media: No such object: 2023-de-zoomcamp/data/taxi_zone_lookup.csv/*/*: ('Request failed with status code', 404, 'Expected one of', <HTTPStatus.OK: 200>, <HTTPStatus.PARTIAL_CONTENT: 206>)",
     "output_type": "error",
     "traceback": [
      "\u001b[0;31m---------------------------------------------------------------------------\u001b[0m",
      "\u001b[0;31mInvalidResponse\u001b[0m                           Traceback (most recent call last)",
      "File \u001b[0;32m~/Documents/codes/spark_demo/venv/lib/python3.10/site-packages/google/cloud/storage/client.py:1091\u001b[0m, in \u001b[0;36mClient.download_blob_to_file\u001b[0;34m(self, blob_or_uri, file_obj, start, end, raw_download, if_etag_match, if_etag_not_match, if_generation_match, if_generation_not_match, if_metageneration_match, if_metageneration_not_match, timeout, checksum, retry)\u001b[0m\n\u001b[1;32m   1090\u001b[0m \u001b[38;5;28;01mtry\u001b[39;00m:\n\u001b[0;32m-> 1091\u001b[0m     \u001b[43mblob_or_uri\u001b[49m\u001b[38;5;241;43m.\u001b[39;49m\u001b[43m_do_download\u001b[49m\u001b[43m(\u001b[49m\n\u001b[1;32m   1092\u001b[0m \u001b[43m        \u001b[49m\u001b[43mtransport\u001b[49m\u001b[43m,\u001b[49m\n\u001b[1;32m   1093\u001b[0m \u001b[43m        \u001b[49m\u001b[43mfile_obj\u001b[49m\u001b[43m,\u001b[49m\n\u001b[1;32m   1094\u001b[0m \u001b[43m        \u001b[49m\u001b[43mdownload_url\u001b[49m\u001b[43m,\u001b[49m\n\u001b[1;32m   1095\u001b[0m \u001b[43m        \u001b[49m\u001b[43mheaders\u001b[49m\u001b[43m,\u001b[49m\n\u001b[1;32m   1096\u001b[0m \u001b[43m        \u001b[49m\u001b[43mstart\u001b[49m\u001b[43m,\u001b[49m\n\u001b[1;32m   1097\u001b[0m \u001b[43m        \u001b[49m\u001b[43mend\u001b[49m\u001b[43m,\u001b[49m\n\u001b[1;32m   1098\u001b[0m \u001b[43m        \u001b[49m\u001b[43mraw_download\u001b[49m\u001b[43m,\u001b[49m\n\u001b[1;32m   1099\u001b[0m \u001b[43m        \u001b[49m\u001b[43mtimeout\u001b[49m\u001b[38;5;241;43m=\u001b[39;49m\u001b[43mtimeout\u001b[49m\u001b[43m,\u001b[49m\n\u001b[1;32m   1100\u001b[0m \u001b[43m        \u001b[49m\u001b[43mchecksum\u001b[49m\u001b[38;5;241;43m=\u001b[39;49m\u001b[43mchecksum\u001b[49m\u001b[43m,\u001b[49m\n\u001b[1;32m   1101\u001b[0m \u001b[43m        \u001b[49m\u001b[43mretry\u001b[49m\u001b[38;5;241;43m=\u001b[39;49m\u001b[43mretry\u001b[49m\u001b[43m,\u001b[49m\n\u001b[1;32m   1102\u001b[0m \u001b[43m    \u001b[49m\u001b[43m)\u001b[49m\n\u001b[1;32m   1103\u001b[0m \u001b[38;5;28;01mexcept\u001b[39;00m resumable_media\u001b[38;5;241m.\u001b[39mInvalidResponse \u001b[38;5;28;01mas\u001b[39;00m exc:\n",
      "File \u001b[0;32m~/Documents/codes/spark_demo/venv/lib/python3.10/site-packages/google/cloud/storage/blob.py:984\u001b[0m, in \u001b[0;36mBlob._do_download\u001b[0;34m(self, transport, file_obj, download_url, headers, start, end, raw_download, timeout, checksum, retry)\u001b[0m\n\u001b[1;32m    983\u001b[0m download\u001b[38;5;241m.\u001b[39m_retry_strategy \u001b[38;5;241m=\u001b[39m retry_strategy\n\u001b[0;32m--> 984\u001b[0m response \u001b[38;5;241m=\u001b[39m \u001b[43mdownload\u001b[49m\u001b[38;5;241;43m.\u001b[39;49m\u001b[43mconsume\u001b[49m\u001b[43m(\u001b[49m\u001b[43mtransport\u001b[49m\u001b[43m,\u001b[49m\u001b[43m \u001b[49m\u001b[43mtimeout\u001b[49m\u001b[38;5;241;43m=\u001b[39;49m\u001b[43mtimeout\u001b[49m\u001b[43m)\u001b[49m\n\u001b[1;32m    985\u001b[0m \u001b[38;5;28mself\u001b[39m\u001b[38;5;241m.\u001b[39m_extract_headers_from_download(response)\n",
      "File \u001b[0;32m~/Documents/codes/spark_demo/venv/lib/python3.10/site-packages/google/resumable_media/requests/download.py:237\u001b[0m, in \u001b[0;36mDownload.consume\u001b[0;34m(self, transport, timeout)\u001b[0m\n\u001b[1;32m    235\u001b[0m     \u001b[38;5;28;01mreturn\u001b[39;00m result\n\u001b[0;32m--> 237\u001b[0m \u001b[38;5;28;01mreturn\u001b[39;00m \u001b[43m_request_helpers\u001b[49m\u001b[38;5;241;43m.\u001b[39;49m\u001b[43mwait_and_retry\u001b[49m\u001b[43m(\u001b[49m\n\u001b[1;32m    238\u001b[0m \u001b[43m    \u001b[49m\u001b[43mretriable_request\u001b[49m\u001b[43m,\u001b[49m\u001b[43m \u001b[49m\u001b[38;5;28;43mself\u001b[39;49m\u001b[38;5;241;43m.\u001b[39;49m\u001b[43m_get_status_code\u001b[49m\u001b[43m,\u001b[49m\u001b[43m \u001b[49m\u001b[38;5;28;43mself\u001b[39;49m\u001b[38;5;241;43m.\u001b[39;49m\u001b[43m_retry_strategy\u001b[49m\n\u001b[1;32m    239\u001b[0m \u001b[43m\u001b[49m\u001b[43m)\u001b[49m\n",
      "File \u001b[0;32m~/Documents/codes/spark_demo/venv/lib/python3.10/site-packages/google/resumable_media/requests/_request_helpers.py:155\u001b[0m, in \u001b[0;36mwait_and_retry\u001b[0;34m(func, get_status_code, retry_strategy)\u001b[0m\n\u001b[1;32m    154\u001b[0m \u001b[38;5;28;01mtry\u001b[39;00m:\n\u001b[0;32m--> 155\u001b[0m     response \u001b[38;5;241m=\u001b[39m \u001b[43mfunc\u001b[49m\u001b[43m(\u001b[49m\u001b[43m)\u001b[49m\n\u001b[1;32m    156\u001b[0m \u001b[38;5;28;01mexcept\u001b[39;00m _CONNECTION_ERROR_CLASSES \u001b[38;5;28;01mas\u001b[39;00m e:\n",
      "File \u001b[0;32m~/Documents/codes/spark_demo/venv/lib/python3.10/site-packages/google/resumable_media/requests/download.py:219\u001b[0m, in \u001b[0;36mDownload.consume.<locals>.retriable_request\u001b[0;34m()\u001b[0m\n\u001b[1;32m    215\u001b[0m     \u001b[38;5;28mself\u001b[39m\u001b[38;5;241m.\u001b[39m_object_generation \u001b[38;5;241m=\u001b[39m _helpers\u001b[38;5;241m.\u001b[39m_parse_generation_header(\n\u001b[1;32m    216\u001b[0m         result, \u001b[38;5;28mself\u001b[39m\u001b[38;5;241m.\u001b[39m_get_headers\n\u001b[1;32m    217\u001b[0m     )\n\u001b[0;32m--> 219\u001b[0m \u001b[38;5;28;43mself\u001b[39;49m\u001b[38;5;241;43m.\u001b[39;49m\u001b[43m_process_response\u001b[49m\u001b[43m(\u001b[49m\u001b[43mresult\u001b[49m\u001b[43m)\u001b[49m\n\u001b[1;32m    221\u001b[0m \u001b[38;5;66;03m# With decompressive transcoding, GCS serves back the whole file regardless of the range request,\u001b[39;00m\n\u001b[1;32m    222\u001b[0m \u001b[38;5;66;03m# thus we reset the stream position to the start of the stream.\u001b[39;00m\n\u001b[1;32m    223\u001b[0m \u001b[38;5;66;03m# See: https://cloud.google.com/storage/docs/transcoding#range\u001b[39;00m\n",
      "File \u001b[0;32m~/Documents/codes/spark_demo/venv/lib/python3.10/site-packages/google/resumable_media/_download.py:188\u001b[0m, in \u001b[0;36mDownload._process_response\u001b[0;34m(self, response)\u001b[0m\n\u001b[1;32m    187\u001b[0m \u001b[38;5;28mself\u001b[39m\u001b[38;5;241m.\u001b[39m_finished \u001b[38;5;241m=\u001b[39m \u001b[38;5;28;01mTrue\u001b[39;00m\n\u001b[0;32m--> 188\u001b[0m \u001b[43m_helpers\u001b[49m\u001b[38;5;241;43m.\u001b[39;49m\u001b[43mrequire_status_code\u001b[49m\u001b[43m(\u001b[49m\n\u001b[1;32m    189\u001b[0m \u001b[43m    \u001b[49m\u001b[43mresponse\u001b[49m\u001b[43m,\u001b[49m\u001b[43m \u001b[49m\u001b[43m_ACCEPTABLE_STATUS_CODES\u001b[49m\u001b[43m,\u001b[49m\u001b[43m \u001b[49m\u001b[38;5;28;43mself\u001b[39;49m\u001b[38;5;241;43m.\u001b[39;49m\u001b[43m_get_status_code\u001b[49m\n\u001b[1;32m    190\u001b[0m \u001b[43m\u001b[49m\u001b[43m)\u001b[49m\n",
      "File \u001b[0;32m~/Documents/codes/spark_demo/venv/lib/python3.10/site-packages/google/resumable_media/_helpers.py:108\u001b[0m, in \u001b[0;36mrequire_status_code\u001b[0;34m(response, status_codes, get_status_code, callback)\u001b[0m\n\u001b[1;32m    107\u001b[0m         callback()\n\u001b[0;32m--> 108\u001b[0m     \u001b[38;5;28;01mraise\u001b[39;00m common\u001b[38;5;241m.\u001b[39mInvalidResponse(\n\u001b[1;32m    109\u001b[0m         response,\n\u001b[1;32m    110\u001b[0m         \u001b[38;5;124m\"\u001b[39m\u001b[38;5;124mRequest failed with status code\u001b[39m\u001b[38;5;124m\"\u001b[39m,\n\u001b[1;32m    111\u001b[0m         status_code,\n\u001b[1;32m    112\u001b[0m         \u001b[38;5;124m\"\u001b[39m\u001b[38;5;124mExpected one of\u001b[39m\u001b[38;5;124m\"\u001b[39m,\n\u001b[1;32m    113\u001b[0m         \u001b[38;5;241m*\u001b[39mstatus_codes\n\u001b[1;32m    114\u001b[0m     )\n\u001b[1;32m    115\u001b[0m \u001b[38;5;28;01mreturn\u001b[39;00m status_code\n",
      "\u001b[0;31mInvalidResponse\u001b[0m: ('Request failed with status code', 404, 'Expected one of', <HTTPStatus.OK: 200>, <HTTPStatus.PARTIAL_CONTENT: 206>)",
      "\nDuring handling of the above exception, another exception occurred:\n",
      "\u001b[0;31mNotFound\u001b[0m                                  Traceback (most recent call last)",
      "Cell \u001b[0;32mIn[12], line 1\u001b[0m\n\u001b[0;32m----> 1\u001b[0m \u001b[43mread_file_blob\u001b[49m\u001b[43m(\u001b[49m\u001b[38;5;124;43m\"\u001b[39;49m\u001b[38;5;124;43mdata/taxi_zone_lookup.csv\u001b[39;49m\u001b[38;5;124;43m\"\u001b[39;49m\u001b[43m)\u001b[49m\n",
      "Cell \u001b[0;32mIn[10], line 8\u001b[0m, in \u001b[0;36mread_file_blob\u001b[0;34m(path)\u001b[0m\n\u001b[1;32m      5\u001b[0m bucket \u001b[38;5;241m=\u001b[39m storage_client\u001b[38;5;241m.\u001b[39mbucket(\u001b[38;5;124m\"\u001b[39m\u001b[38;5;124m2023-de-zoomcamp\u001b[39m\u001b[38;5;124m\"\u001b[39m)\n\u001b[1;32m      6\u001b[0m blob \u001b[38;5;241m=\u001b[39m bucket\u001b[38;5;241m.\u001b[39mblob(path \u001b[38;5;241m+\u001b[39m \u001b[38;5;124m\"\u001b[39m\u001b[38;5;124m/*/*\u001b[39m\u001b[38;5;124m\"\u001b[39m)\n\u001b[0;32m----> 8\u001b[0m read_output \u001b[38;5;241m=\u001b[39m \u001b[43mblob\u001b[49m\u001b[38;5;241;43m.\u001b[39;49m\u001b[43mdownload_as_string\u001b[49m\u001b[43m(\u001b[49m\u001b[43m)\u001b[49m\n\u001b[1;32m      9\u001b[0m \u001b[38;5;28;01mreturn\u001b[39;00m read_output\n",
      "File \u001b[0;32m~/Documents/codes/spark_demo/venv/lib/python3.10/site-packages/google/cloud/storage/blob.py:1502\u001b[0m, in \u001b[0;36mBlob.download_as_string\u001b[0;34m(self, client, start, end, raw_download, if_etag_match, if_etag_not_match, if_generation_match, if_generation_not_match, if_metageneration_match, if_metageneration_not_match, timeout, retry)\u001b[0m\n\u001b[1;32m   1420\u001b[0m \u001b[38;5;250m\u001b[39m\u001b[38;5;124;03m\"\"\"(Deprecated) Download the contents of this blob as a bytes object.\u001b[39;00m\n\u001b[1;32m   1421\u001b[0m \n\u001b[1;32m   1422\u001b[0m \u001b[38;5;124;03mIf :attr:`user_project` is set on the bucket, bills the API request\u001b[39;00m\n\u001b[0;32m   (...)\u001b[0m\n\u001b[1;32m   1497\u001b[0m \u001b[38;5;124;03m:raises: :class:`google.cloud.exceptions.NotFound`\u001b[39;00m\n\u001b[1;32m   1498\u001b[0m \u001b[38;5;124;03m\"\"\"\u001b[39;00m\n\u001b[1;32m   1499\u001b[0m warnings\u001b[38;5;241m.\u001b[39mwarn(\n\u001b[1;32m   1500\u001b[0m     _DOWNLOAD_AS_STRING_DEPRECATED, \u001b[38;5;167;01mPendingDeprecationWarning\u001b[39;00m, stacklevel\u001b[38;5;241m=\u001b[39m\u001b[38;5;241m2\u001b[39m\n\u001b[1;32m   1501\u001b[0m )\n\u001b[0;32m-> 1502\u001b[0m \u001b[38;5;28;01mreturn\u001b[39;00m \u001b[38;5;28;43mself\u001b[39;49m\u001b[38;5;241;43m.\u001b[39;49m\u001b[43mdownload_as_bytes\u001b[49m\u001b[43m(\u001b[49m\n\u001b[1;32m   1503\u001b[0m \u001b[43m    \u001b[49m\u001b[43mclient\u001b[49m\u001b[38;5;241;43m=\u001b[39;49m\u001b[43mclient\u001b[49m\u001b[43m,\u001b[49m\n\u001b[1;32m   1504\u001b[0m \u001b[43m    \u001b[49m\u001b[43mstart\u001b[49m\u001b[38;5;241;43m=\u001b[39;49m\u001b[43mstart\u001b[49m\u001b[43m,\u001b[49m\n\u001b[1;32m   1505\u001b[0m \u001b[43m    \u001b[49m\u001b[43mend\u001b[49m\u001b[38;5;241;43m=\u001b[39;49m\u001b[43mend\u001b[49m\u001b[43m,\u001b[49m\n\u001b[1;32m   1506\u001b[0m \u001b[43m    \u001b[49m\u001b[43mraw_download\u001b[49m\u001b[38;5;241;43m=\u001b[39;49m\u001b[43mraw_download\u001b[49m\u001b[43m,\u001b[49m\n\u001b[1;32m   1507\u001b[0m \u001b[43m    \u001b[49m\u001b[43mif_etag_match\u001b[49m\u001b[38;5;241;43m=\u001b[39;49m\u001b[43mif_etag_match\u001b[49m\u001b[43m,\u001b[49m\n\u001b[1;32m   1508\u001b[0m \u001b[43m    \u001b[49m\u001b[43mif_etag_not_match\u001b[49m\u001b[38;5;241;43m=\u001b[39;49m\u001b[43mif_etag_not_match\u001b[49m\u001b[43m,\u001b[49m\n\u001b[1;32m   1509\u001b[0m \u001b[43m    \u001b[49m\u001b[43mif_generation_match\u001b[49m\u001b[38;5;241;43m=\u001b[39;49m\u001b[43mif_generation_match\u001b[49m\u001b[43m,\u001b[49m\n\u001b[1;32m   1510\u001b[0m \u001b[43m    \u001b[49m\u001b[43mif_generation_not_match\u001b[49m\u001b[38;5;241;43m=\u001b[39;49m\u001b[43mif_generation_not_match\u001b[49m\u001b[43m,\u001b[49m\n\u001b[1;32m   1511\u001b[0m \u001b[43m    \u001b[49m\u001b[43mif_metageneration_match\u001b[49m\u001b[38;5;241;43m=\u001b[39;49m\u001b[43mif_metageneration_match\u001b[49m\u001b[43m,\u001b[49m\n\u001b[1;32m   1512\u001b[0m \u001b[43m    \u001b[49m\u001b[43mif_metageneration_not_match\u001b[49m\u001b[38;5;241;43m=\u001b[39;49m\u001b[43mif_metageneration_not_match\u001b[49m\u001b[43m,\u001b[49m\n\u001b[1;32m   1513\u001b[0m \u001b[43m    \u001b[49m\u001b[43mtimeout\u001b[49m\u001b[38;5;241;43m=\u001b[39;49m\u001b[43mtimeout\u001b[49m\u001b[43m,\u001b[49m\n\u001b[1;32m   1514\u001b[0m \u001b[43m    \u001b[49m\u001b[43mretry\u001b[49m\u001b[38;5;241;43m=\u001b[39;49m\u001b[43mretry\u001b[49m\u001b[43m,\u001b[49m\n\u001b[1;32m   1515\u001b[0m \u001b[43m\u001b[49m\u001b[43m)\u001b[49m\n",
      "File \u001b[0;32m~/Documents/codes/spark_demo/venv/lib/python3.10/site-packages/google/cloud/storage/blob.py:1387\u001b[0m, in \u001b[0;36mBlob.download_as_bytes\u001b[0;34m(self, client, start, end, raw_download, if_etag_match, if_etag_not_match, if_generation_match, if_generation_not_match, if_metageneration_match, if_metageneration_not_match, timeout, checksum, retry)\u001b[0m\n\u001b[1;32m   1385\u001b[0m client \u001b[38;5;241m=\u001b[39m \u001b[38;5;28mself\u001b[39m\u001b[38;5;241m.\u001b[39m_require_client(client)\n\u001b[1;32m   1386\u001b[0m string_buffer \u001b[38;5;241m=\u001b[39m BytesIO()\n\u001b[0;32m-> 1387\u001b[0m \u001b[43mclient\u001b[49m\u001b[38;5;241;43m.\u001b[39;49m\u001b[43mdownload_blob_to_file\u001b[49m\u001b[43m(\u001b[49m\n\u001b[1;32m   1388\u001b[0m \u001b[43m    \u001b[49m\u001b[38;5;28;43mself\u001b[39;49m\u001b[43m,\u001b[49m\n\u001b[1;32m   1389\u001b[0m \u001b[43m    \u001b[49m\u001b[43mstring_buffer\u001b[49m\u001b[43m,\u001b[49m\n\u001b[1;32m   1390\u001b[0m \u001b[43m    \u001b[49m\u001b[43mstart\u001b[49m\u001b[38;5;241;43m=\u001b[39;49m\u001b[43mstart\u001b[49m\u001b[43m,\u001b[49m\n\u001b[1;32m   1391\u001b[0m \u001b[43m    \u001b[49m\u001b[43mend\u001b[49m\u001b[38;5;241;43m=\u001b[39;49m\u001b[43mend\u001b[49m\u001b[43m,\u001b[49m\n\u001b[1;32m   1392\u001b[0m \u001b[43m    \u001b[49m\u001b[43mraw_download\u001b[49m\u001b[38;5;241;43m=\u001b[39;49m\u001b[43mraw_download\u001b[49m\u001b[43m,\u001b[49m\n\u001b[1;32m   1393\u001b[0m \u001b[43m    \u001b[49m\u001b[43mif_etag_match\u001b[49m\u001b[38;5;241;43m=\u001b[39;49m\u001b[43mif_etag_match\u001b[49m\u001b[43m,\u001b[49m\n\u001b[1;32m   1394\u001b[0m \u001b[43m    \u001b[49m\u001b[43mif_etag_not_match\u001b[49m\u001b[38;5;241;43m=\u001b[39;49m\u001b[43mif_etag_not_match\u001b[49m\u001b[43m,\u001b[49m\n\u001b[1;32m   1395\u001b[0m \u001b[43m    \u001b[49m\u001b[43mif_generation_match\u001b[49m\u001b[38;5;241;43m=\u001b[39;49m\u001b[43mif_generation_match\u001b[49m\u001b[43m,\u001b[49m\n\u001b[1;32m   1396\u001b[0m \u001b[43m    \u001b[49m\u001b[43mif_generation_not_match\u001b[49m\u001b[38;5;241;43m=\u001b[39;49m\u001b[43mif_generation_not_match\u001b[49m\u001b[43m,\u001b[49m\n\u001b[1;32m   1397\u001b[0m \u001b[43m    \u001b[49m\u001b[43mif_metageneration_match\u001b[49m\u001b[38;5;241;43m=\u001b[39;49m\u001b[43mif_metageneration_match\u001b[49m\u001b[43m,\u001b[49m\n\u001b[1;32m   1398\u001b[0m \u001b[43m    \u001b[49m\u001b[43mif_metageneration_not_match\u001b[49m\u001b[38;5;241;43m=\u001b[39;49m\u001b[43mif_metageneration_not_match\u001b[49m\u001b[43m,\u001b[49m\n\u001b[1;32m   1399\u001b[0m \u001b[43m    \u001b[49m\u001b[43mtimeout\u001b[49m\u001b[38;5;241;43m=\u001b[39;49m\u001b[43mtimeout\u001b[49m\u001b[43m,\u001b[49m\n\u001b[1;32m   1400\u001b[0m \u001b[43m    \u001b[49m\u001b[43mchecksum\u001b[49m\u001b[38;5;241;43m=\u001b[39;49m\u001b[43mchecksum\u001b[49m\u001b[43m,\u001b[49m\n\u001b[1;32m   1401\u001b[0m \u001b[43m    \u001b[49m\u001b[43mretry\u001b[49m\u001b[38;5;241;43m=\u001b[39;49m\u001b[43mretry\u001b[49m\u001b[43m,\u001b[49m\n\u001b[1;32m   1402\u001b[0m \u001b[43m\u001b[49m\u001b[43m)\u001b[49m\n\u001b[1;32m   1403\u001b[0m \u001b[38;5;28;01mreturn\u001b[39;00m string_buffer\u001b[38;5;241m.\u001b[39mgetvalue()\n",
      "File \u001b[0;32m~/Documents/codes/spark_demo/venv/lib/python3.10/site-packages/google/cloud/storage/client.py:1104\u001b[0m, in \u001b[0;36mClient.download_blob_to_file\u001b[0;34m(self, blob_or_uri, file_obj, start, end, raw_download, if_etag_match, if_etag_not_match, if_generation_match, if_generation_not_match, if_metageneration_match, if_metageneration_not_match, timeout, checksum, retry)\u001b[0m\n\u001b[1;32m   1091\u001b[0m     blob_or_uri\u001b[38;5;241m.\u001b[39m_do_download(\n\u001b[1;32m   1092\u001b[0m         transport,\n\u001b[1;32m   1093\u001b[0m         file_obj,\n\u001b[0;32m   (...)\u001b[0m\n\u001b[1;32m   1101\u001b[0m         retry\u001b[38;5;241m=\u001b[39mretry,\n\u001b[1;32m   1102\u001b[0m     )\n\u001b[1;32m   1103\u001b[0m \u001b[38;5;28;01mexcept\u001b[39;00m resumable_media\u001b[38;5;241m.\u001b[39mInvalidResponse \u001b[38;5;28;01mas\u001b[39;00m exc:\n\u001b[0;32m-> 1104\u001b[0m     \u001b[43m_raise_from_invalid_response\u001b[49m\u001b[43m(\u001b[49m\u001b[43mexc\u001b[49m\u001b[43m)\u001b[49m\n",
      "File \u001b[0;32m~/Documents/codes/spark_demo/venv/lib/python3.10/site-packages/google/cloud/storage/blob.py:4369\u001b[0m, in \u001b[0;36m_raise_from_invalid_response\u001b[0;34m(error)\u001b[0m\n\u001b[1;32m   4365\u001b[0m     error_message \u001b[38;5;241m=\u001b[39m \u001b[38;5;28mstr\u001b[39m(error)\n\u001b[1;32m   4367\u001b[0m message \u001b[38;5;241m=\u001b[39m \u001b[38;5;124mf\u001b[39m\u001b[38;5;124m\"\u001b[39m\u001b[38;5;132;01m{\u001b[39;00mresponse\u001b[38;5;241m.\u001b[39mrequest\u001b[38;5;241m.\u001b[39mmethod\u001b[38;5;132;01m}\u001b[39;00m\u001b[38;5;124m \u001b[39m\u001b[38;5;132;01m{\u001b[39;00mresponse\u001b[38;5;241m.\u001b[39mrequest\u001b[38;5;241m.\u001b[39murl\u001b[38;5;132;01m}\u001b[39;00m\u001b[38;5;124m: \u001b[39m\u001b[38;5;132;01m{\u001b[39;00merror_message\u001b[38;5;132;01m}\u001b[39;00m\u001b[38;5;124m\"\u001b[39m\n\u001b[0;32m-> 4369\u001b[0m \u001b[38;5;28;01mraise\u001b[39;00m exceptions\u001b[38;5;241m.\u001b[39mfrom_http_status(response\u001b[38;5;241m.\u001b[39mstatus_code, message, response\u001b[38;5;241m=\u001b[39mresponse)\n",
      "\u001b[0;31mNotFound\u001b[0m: 404 GET https://storage.googleapis.com/download/storage/v1/b/2023-de-zoomcamp/o/data%2Ftaxi_zone_lookup.csv%2F%2A%2F%2A?alt=media: No such object: 2023-de-zoomcamp/data/taxi_zone_lookup.csv/*/*: ('Request failed with status code', 404, 'Expected one of', <HTTPStatus.OK: 200>, <HTTPStatus.PARTIAL_CONTENT: 206>)"
     ]
    }
   ],
   "source": [
    "read_file_blob(\"data/taxi_zone_lookup.csv\")"
   ]
  },
  {
   "cell_type": "code",
   "execution_count": null,
   "id": "224e610e",
   "metadata": {},
   "outputs": [],
   "source": [
    "a"
   ]
  }
 ],
 "metadata": {
  "kernelspec": {
   "display_name": "Python 3 (ipykernel)",
   "language": "python",
   "name": "python3"
  },
  "language_info": {
   "codemirror_mode": {
    "name": "ipython",
    "version": 3
   },
   "file_extension": ".py",
   "mimetype": "text/x-python",
   "name": "python",
   "nbconvert_exporter": "python",
   "pygments_lexer": "ipython3",
   "version": "3.10.9"
  }
 },
 "nbformat": 4,
 "nbformat_minor": 5
}
